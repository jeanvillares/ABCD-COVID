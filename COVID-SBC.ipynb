{
 "cells": [
  {
   "cell_type": "code",
   "execution_count": 3,
   "metadata": {},
   "outputs": [],
   "source": [
    "import pandas as pd\n",
    "import numpy as np\n",
    "import matplotlib.pyplot as plt\n",
    "import datetime"
   ]
  },
  {
   "cell_type": "code",
   "execution_count": 13,
   "metadata": {},
   "outputs": [
    {
     "data": {
      "text/plain": [
       "(186071, 14)"
      ]
     },
     "execution_count": 13,
     "metadata": {},
     "output_type": "execute_result"
    }
   ],
   "source": [
    "# df = pd.read_csv('caso.csv') - arquivo de origem para a criação do arquivo SPStateCOVID\n",
    "# df.shape\n",
    "\n",
    "df = pd.read_csv('SPStateCOVID.csv')\n",
    "df.shape"
   ]
  },
  {
   "cell_type": "code",
   "execution_count": 14,
   "metadata": {},
   "outputs": [
    {
     "data": {
      "text/html": [
       "<div>\n",
       "<style scoped>\n",
       "    .dataframe tbody tr th:only-of-type {\n",
       "        vertical-align: middle;\n",
       "    }\n",
       "\n",
       "    .dataframe tbody tr th {\n",
       "        vertical-align: top;\n",
       "    }\n",
       "\n",
       "    .dataframe thead th {\n",
       "        text-align: right;\n",
       "    }\n",
       "</style>\n",
       "<table border=\"1\" class=\"dataframe\">\n",
       "  <thead>\n",
       "    <tr style=\"text-align: right;\">\n",
       "      <th></th>\n",
       "      <th>Unnamed: 0</th>\n",
       "      <th>date</th>\n",
       "      <th>state</th>\n",
       "      <th>city</th>\n",
       "      <th>place_type</th>\n",
       "      <th>confirmed</th>\n",
       "      <th>deaths</th>\n",
       "      <th>order_for_place</th>\n",
       "      <th>is_last</th>\n",
       "      <th>estimated_population_2019</th>\n",
       "      <th>estimated_population</th>\n",
       "      <th>city_ibge_code</th>\n",
       "      <th>confirmed_per_100k_inhabitants</th>\n",
       "      <th>death_rate</th>\n",
       "    </tr>\n",
       "  </thead>\n",
       "  <tbody>\n",
       "    <tr>\n",
       "      <th>0</th>\n",
       "      <td>1381509</td>\n",
       "      <td>2021-03-04</td>\n",
       "      <td>SP</td>\n",
       "      <td>NaN</td>\n",
       "      <td>state</td>\n",
       "      <td>2080852</td>\n",
       "      <td>60694</td>\n",
       "      <td>367</td>\n",
       "      <td>True</td>\n",
       "      <td>45919049.0</td>\n",
       "      <td>46289333.0</td>\n",
       "      <td>35.0</td>\n",
       "      <td>4495.31645</td>\n",
       "      <td>0.0292</td>\n",
       "    </tr>\n",
       "    <tr>\n",
       "      <th>1</th>\n",
       "      <td>1381510</td>\n",
       "      <td>2021-03-03</td>\n",
       "      <td>SP</td>\n",
       "      <td>NaN</td>\n",
       "      <td>state</td>\n",
       "      <td>2068616</td>\n",
       "      <td>60381</td>\n",
       "      <td>366</td>\n",
       "      <td>False</td>\n",
       "      <td>45919049.0</td>\n",
       "      <td>46289333.0</td>\n",
       "      <td>35.0</td>\n",
       "      <td>4468.88271</td>\n",
       "      <td>0.0292</td>\n",
       "    </tr>\n",
       "    <tr>\n",
       "      <th>2</th>\n",
       "      <td>1381511</td>\n",
       "      <td>2021-03-02</td>\n",
       "      <td>SP</td>\n",
       "      <td>NaN</td>\n",
       "      <td>state</td>\n",
       "      <td>2054867</td>\n",
       "      <td>60014</td>\n",
       "      <td>365</td>\n",
       "      <td>False</td>\n",
       "      <td>45919049.0</td>\n",
       "      <td>46289333.0</td>\n",
       "      <td>35.0</td>\n",
       "      <td>4439.18040</td>\n",
       "      <td>0.0292</td>\n",
       "    </tr>\n",
       "    <tr>\n",
       "      <th>3</th>\n",
       "      <td>1381512</td>\n",
       "      <td>2021-03-01</td>\n",
       "      <td>SP</td>\n",
       "      <td>NaN</td>\n",
       "      <td>state</td>\n",
       "      <td>2044699</td>\n",
       "      <td>59546</td>\n",
       "      <td>364</td>\n",
       "      <td>False</td>\n",
       "      <td>45919049.0</td>\n",
       "      <td>46289333.0</td>\n",
       "      <td>35.0</td>\n",
       "      <td>4417.21422</td>\n",
       "      <td>0.0291</td>\n",
       "    </tr>\n",
       "    <tr>\n",
       "      <th>4</th>\n",
       "      <td>1381513</td>\n",
       "      <td>2021-02-28</td>\n",
       "      <td>SP</td>\n",
       "      <td>NaN</td>\n",
       "      <td>state</td>\n",
       "      <td>2041628</td>\n",
       "      <td>59493</td>\n",
       "      <td>363</td>\n",
       "      <td>False</td>\n",
       "      <td>45919049.0</td>\n",
       "      <td>46289333.0</td>\n",
       "      <td>35.0</td>\n",
       "      <td>4410.57986</td>\n",
       "      <td>0.0291</td>\n",
       "    </tr>\n",
       "  </tbody>\n",
       "</table>\n",
       "</div>"
      ],
      "text/plain": [
       "   Unnamed: 0       date state city place_type  confirmed  deaths  \\\n",
       "0     1381509 2021-03-04    SP  NaN      state    2080852   60694   \n",
       "1     1381510 2021-03-03    SP  NaN      state    2068616   60381   \n",
       "2     1381511 2021-03-02    SP  NaN      state    2054867   60014   \n",
       "3     1381512 2021-03-01    SP  NaN      state    2044699   59546   \n",
       "4     1381513 2021-02-28    SP  NaN      state    2041628   59493   \n",
       "\n",
       "   order_for_place  is_last  estimated_population_2019  estimated_population  \\\n",
       "0              367     True                 45919049.0            46289333.0   \n",
       "1              366    False                 45919049.0            46289333.0   \n",
       "2              365    False                 45919049.0            46289333.0   \n",
       "3              364    False                 45919049.0            46289333.0   \n",
       "4              363    False                 45919049.0            46289333.0   \n",
       "\n",
       "   city_ibge_code  confirmed_per_100k_inhabitants  death_rate  \n",
       "0            35.0                      4495.31645      0.0292  \n",
       "1            35.0                      4468.88271      0.0292  \n",
       "2            35.0                      4439.18040      0.0292  \n",
       "3            35.0                      4417.21422      0.0291  \n",
       "4            35.0                      4410.57986      0.0291  "
      ]
     },
     "execution_count": 14,
     "metadata": {},
     "output_type": "execute_result"
    }
   ],
   "source": [
    "df1 = df[df['state'] == 'SP']\n",
    "df1['date'] = pd.to_datetime(df1['date'])\n",
    "# df1.sort_values(by = 'date', inplace = True)\n",
    "# df1.to_csv('SPStateCOVID.csv') - criação do arquivo. Assim o banco de dados fica menor e mais fácil de ser manipulado\n",
    "df1.head()"
   ]
  },
  {
   "cell_type": "code",
   "execution_count": 15,
   "metadata": {},
   "outputs": [
    {
     "data": {
      "text/html": [
       "<div>\n",
       "<style scoped>\n",
       "    .dataframe tbody tr th:only-of-type {\n",
       "        vertical-align: middle;\n",
       "    }\n",
       "\n",
       "    .dataframe tbody tr th {\n",
       "        vertical-align: top;\n",
       "    }\n",
       "\n",
       "    .dataframe thead th {\n",
       "        text-align: right;\n",
       "    }\n",
       "</style>\n",
       "<table border=\"1\" class=\"dataframe\">\n",
       "  <thead>\n",
       "    <tr style=\"text-align: right;\">\n",
       "      <th></th>\n",
       "      <th>Unnamed: 0</th>\n",
       "      <th>date</th>\n",
       "      <th>state</th>\n",
       "      <th>city</th>\n",
       "      <th>place_type</th>\n",
       "      <th>confirmed</th>\n",
       "      <th>deaths</th>\n",
       "      <th>order_for_place</th>\n",
       "      <th>is_last</th>\n",
       "      <th>estimated_population_2019</th>\n",
       "      <th>estimated_population</th>\n",
       "      <th>city_ibge_code</th>\n",
       "      <th>confirmed_per_100k_inhabitants</th>\n",
       "      <th>death_rate</th>\n",
       "    </tr>\n",
       "  </thead>\n",
       "  <tbody>\n",
       "    <tr>\n",
       "      <th>159579</th>\n",
       "      <td>1541088</td>\n",
       "      <td>2021-03-02</td>\n",
       "      <td>SP</td>\n",
       "      <td>São Bernardo do Campo</td>\n",
       "      <td>city</td>\n",
       "      <td>44738</td>\n",
       "      <td>1574</td>\n",
       "      <td>330</td>\n",
       "      <td>True</td>\n",
       "      <td>838936.0</td>\n",
       "      <td>844483.0</td>\n",
       "      <td>3548708.0</td>\n",
       "      <td>5297.67917</td>\n",
       "      <td>0.0352</td>\n",
       "    </tr>\n",
       "    <tr>\n",
       "      <th>159580</th>\n",
       "      <td>1541089</td>\n",
       "      <td>2021-02-28</td>\n",
       "      <td>SP</td>\n",
       "      <td>São Bernardo do Campo</td>\n",
       "      <td>city</td>\n",
       "      <td>44533</td>\n",
       "      <td>1562</td>\n",
       "      <td>329</td>\n",
       "      <td>False</td>\n",
       "      <td>838936.0</td>\n",
       "      <td>844483.0</td>\n",
       "      <td>3548708.0</td>\n",
       "      <td>5273.40396</td>\n",
       "      <td>0.0351</td>\n",
       "    </tr>\n",
       "    <tr>\n",
       "      <th>159581</th>\n",
       "      <td>1541090</td>\n",
       "      <td>2021-02-27</td>\n",
       "      <td>SP</td>\n",
       "      <td>São Bernardo do Campo</td>\n",
       "      <td>city</td>\n",
       "      <td>44497</td>\n",
       "      <td>1562</td>\n",
       "      <td>328</td>\n",
       "      <td>False</td>\n",
       "      <td>838936.0</td>\n",
       "      <td>844483.0</td>\n",
       "      <td>3548708.0</td>\n",
       "      <td>5269.14100</td>\n",
       "      <td>0.0351</td>\n",
       "    </tr>\n",
       "    <tr>\n",
       "      <th>159582</th>\n",
       "      <td>1541091</td>\n",
       "      <td>2021-02-26</td>\n",
       "      <td>SP</td>\n",
       "      <td>São Bernardo do Campo</td>\n",
       "      <td>city</td>\n",
       "      <td>44247</td>\n",
       "      <td>1550</td>\n",
       "      <td>327</td>\n",
       "      <td>False</td>\n",
       "      <td>838936.0</td>\n",
       "      <td>844483.0</td>\n",
       "      <td>3548708.0</td>\n",
       "      <td>5239.53709</td>\n",
       "      <td>0.0350</td>\n",
       "    </tr>\n",
       "    <tr>\n",
       "      <th>159583</th>\n",
       "      <td>1541092</td>\n",
       "      <td>2021-02-25</td>\n",
       "      <td>SP</td>\n",
       "      <td>São Bernardo do Campo</td>\n",
       "      <td>city</td>\n",
       "      <td>44024</td>\n",
       "      <td>1543</td>\n",
       "      <td>326</td>\n",
       "      <td>False</td>\n",
       "      <td>838936.0</td>\n",
       "      <td>844483.0</td>\n",
       "      <td>3548708.0</td>\n",
       "      <td>5213.13040</td>\n",
       "      <td>0.0350</td>\n",
       "    </tr>\n",
       "  </tbody>\n",
       "</table>\n",
       "</div>"
      ],
      "text/plain": [
       "        Unnamed: 0       date state                   city place_type  \\\n",
       "159579     1541088 2021-03-02    SP  São Bernardo do Campo       city   \n",
       "159580     1541089 2021-02-28    SP  São Bernardo do Campo       city   \n",
       "159581     1541090 2021-02-27    SP  São Bernardo do Campo       city   \n",
       "159582     1541091 2021-02-26    SP  São Bernardo do Campo       city   \n",
       "159583     1541092 2021-02-25    SP  São Bernardo do Campo       city   \n",
       "\n",
       "        confirmed  deaths  order_for_place  is_last  \\\n",
       "159579      44738    1574              330     True   \n",
       "159580      44533    1562              329    False   \n",
       "159581      44497    1562              328    False   \n",
       "159582      44247    1550              327    False   \n",
       "159583      44024    1543              326    False   \n",
       "\n",
       "        estimated_population_2019  estimated_population  city_ibge_code  \\\n",
       "159579                   838936.0              844483.0       3548708.0   \n",
       "159580                   838936.0              844483.0       3548708.0   \n",
       "159581                   838936.0              844483.0       3548708.0   \n",
       "159582                   838936.0              844483.0       3548708.0   \n",
       "159583                   838936.0              844483.0       3548708.0   \n",
       "\n",
       "        confirmed_per_100k_inhabitants  death_rate  \n",
       "159579                      5297.67917      0.0352  \n",
       "159580                      5273.40396      0.0351  \n",
       "159581                      5269.14100      0.0351  \n",
       "159582                      5239.53709      0.0350  \n",
       "159583                      5213.13040      0.0350  "
      ]
     },
     "execution_count": 15,
     "metadata": {},
     "output_type": "execute_result"
    }
   ],
   "source": [
    "df1sbc = (df1[df1['city'] == 'São Bernardo do Campo'])\n",
    "df1sa = (df1[df1['city'] == 'Santo André'])\n",
    "df1dd = (df1[df1['city'] == 'Diadema'])\n",
    "df1sc = (df1[df1['city'] == 'São Caetano do Sul'])\n",
    "df1sbc.head()"
   ]
  },
  {
   "cell_type": "code",
   "execution_count": 16,
   "metadata": {},
   "outputs": [],
   "source": [
    "date1 = df1sbc[df1sbc['date'] > '2020-10-30']\n",
    "date2 = df1sa[df1sa['date'] > '2020-10-30']\n",
    "date3 = df1dd[df1dd['date'] > '2020-10-30']\n",
    "date4 = df1sc[df1sc['date'] > '2020-10-30']"
   ]
  },
  {
   "cell_type": "code",
   "execution_count": 17,
   "metadata": {},
   "outputs": [
    {
     "data": {
      "image/png": "[encoded data removed]",
      "text/plain": [
       "<Figure size 1440x720 with 1 Axes>"
      ]
     },
     "metadata": {
      "needs_background": "light"
     },
     "output_type": "display_data"
    }
   ],
   "source": [
    "plt.figure(figsize=(20,10))\n",
    "plt.plot(date1.date, date1.deaths, color = 'red', label = 'São Bernardo do Campo')\n",
    "plt.plot(date2.date, date2.deaths, color = 'blue', label = 'Santo André')\n",
    "plt.plot(date3.date, date3.deaths, color = 'green', label = 'Diadema')\n",
    "plt.plot(date4.date, date4.deaths, color = 'orange', label = 'São Caetano do Sul')\n",
    "plt.title('COVID19 NO ABCD - Número de Óbitos em Função do Tempo'.upper(), size = 20)\n",
    "plt.legend()\n",
    "plt.xticks(size = 12)\n",
    "plt.yticks(size = 12)\n",
    "plt.ylabel('Nº de Óbitos'.upper(),  size = 15)\n",
    "plt.show()"
   ]
  },
  {
   "cell_type": "code",
   "execution_count": 24,
   "metadata": {},
   "outputs": [
    {
     "name": "stdout",
     "output_type": "stream",
     "text": [
      "[10558, 44738, 36095, 14334]\n",
      "[408, 1574, 1232, 555]\n"
     ]
    }
   ],
   "source": [
    "cidades = ['São B. Campo', 'Diadema', 'São Caetano S.', 'Santo André']\n",
    "cidades.sort()\n",
    "\n",
    "w = .4\n",
    "bar1 = np.arange(len(cidades))\n",
    "\n",
    "sbccases = max(df1sbc['confirmed'])\n",
    "sbcd = max(df1sbc['deaths'])\n",
    "sacases = max(df1sa['confirmed'])\n",
    "sad = max(df1sa['deaths'])\n",
    "ddcases = max(df1dd['confirmed'])\n",
    "ddd = max(df1dd['deaths'])\n",
    "sccases = max(df1sc['confirmed'])\n",
    "scd = max(df1sc['deaths'])\n",
    "\n",
    "casos = [sccases, sbccases, sacases, ddcases]\n",
    "obt = [scd, sbcd, sad, ddd]\n",
    "\n",
    "print(casos)\n",
    "print(obt)\n"
   ]
  },
  {
   "cell_type": "code",
   "execution_count": 25,
   "metadata": {},
   "outputs": [
    {
     "data": {
      "image/png": "[encoded data removed]",
      "text/plain": [
       "<Figure size 1008x504 with 1 Axes>"
      ]
     },
     "metadata": {
      "needs_background": "light"
     },
     "output_type": "display_data"
    }
   ],
   "source": [
    "fig, ax = plt.subplots(figsize = (14,7))\n",
    "\n",
    "bar_1 = ax.barh(bar1-w/2, casos, w)\n",
    "bar_2 = ax.barh(bar1+w/2, obt, w)\n",
    "plt.yticks(bar1, cidades)\n",
    "plt.legend(['Número de Casos', 'Número de Óbitos'])\n",
    "for index, value in enumerate(casos):\n",
    "    plt.text(value, index, str(value))\n",
    "for index, value in enumerate(obt):\n",
    "    plt.text(value, index, str(value))\n",
    "plt.show()"
   ]
  },
  {
   "cell_type": "code",
   "execution_count": 21,
   "metadata": {},
   "outputs": [
    {
     "data": {
      "image/png": "[encoded data removed]",
      "text/plain": [
       "<Figure size 432x288 with 1 Axes>"
      ]
     },
     "metadata": {
      "needs_background": "light"
     },
     "output_type": "display_data"
    }
   ],
   "source": [
    "x = [\"A\", \"B\", \"C\", \"D\"]\n",
    "y = [1, 2, 3, 4]\n",
    "plt.bar(x, y)\n",
    "\n",
    "for index, value in enumerate(y):\n",
    "    plt.text(value, index, str(value))"
   ]
  },
  {
   "cell_type": "code",
   "execution_count": null,
   "metadata": {},
   "outputs": [],
   "source": []
  },
  {
   "cell_type": "code",
   "execution_count": null,
   "metadata": {},
   "outputs": [],
   "source": []
  }
 ],
 "metadata": {
  "kernelspec": {
   "display_name": "Python 3",
   "language": "python",
   "name": "python3"
  },
  "language_info": {
   "codemirror_mode": {
    "name": "ipython",
    "version": 3
   },
   "file_extension": ".py",
   "mimetype": "text/x-python",
   "name": "python",
   "nbconvert_exporter": "python",
   "pygments_lexer": "ipython3",
   "version": "3.7.6"
  }
 },
 "nbformat": 4,
 "nbformat_minor": 4
}
